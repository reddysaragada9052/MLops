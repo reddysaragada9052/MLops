{
 "cells": [
  {
   "cell_type": "code",
   "execution_count": 1,
   "id": "0a0af486",
   "metadata": {},
   "outputs": [],
   "source": [
    "import logging\n",
    "logging.basicConfig(\n",
    "    filename= \"logs\",\n",
    "    filemode=\"w\",\n",
    "    format=\"%(asctime)s-%(name)s-%(levelname)s-%(message)s\",\n",
    "    datefmt=\"%Y-%m-%d %H:%M:%S\",\n",
    "    level= logging.DEBUG\n",
    "    )\n",
    "\n",
    "logging.debug(\"This is debug\")\n",
    "logging.error(\"This is an error\")\n",
    "logging.critical(\"This is critical message\")\n",
    "logging.warning(\"This is a warning\")\n",
    "logging.info(\" This is an info\")"
   ]
  },
  {
   "cell_type": "code",
   "execution_count": 2,
   "id": "5d1da6d1",
   "metadata": {},
   "outputs": [],
   "source": [
    "logging.debug(\"This is debug\")\n",
    "logging.error(\"This is an error\")\n",
    "logging.critical(\"This is critical message\")\n",
    "logging.warning(\"This is a warning\")\n",
    "logging.info(\" This is an info\")"
   ]
  },
  {
   "cell_type": "code",
   "execution_count": null,
   "id": "1ee6e6cb",
   "metadata": {},
   "outputs": [],
   "source": []
  }
 ],
 "metadata": {
  "kernelspec": {
   "display_name": "base",
   "language": "python",
   "name": "python3"
  },
  "language_info": {
   "codemirror_mode": {
    "name": "ipython",
    "version": 3
   },
   "file_extension": ".py",
   "mimetype": "text/x-python",
   "name": "python",
   "nbconvert_exporter": "python",
   "pygments_lexer": "ipython3",
   "version": "3.12.4"
  }
 },
 "nbformat": 4,
 "nbformat_minor": 5
}
